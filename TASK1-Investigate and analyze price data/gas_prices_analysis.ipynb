{
 "cells": [
  {
   "cell_type": "markdown",
   "id": "5909c624",
   "metadata": {},
   "source": [
    "## Background Information on Your Task\n",
    "\n",
    "You are a **quantitative researcher** working with a commodity trading desk. Alex, a VP on the desk, wants to start trading **natural gas storage contracts**. However, the available market data must be of higher quality to enable the instrument to be priced accurately.\n",
    "\n",
    "They have sent you an email asking you to help **extrapolate the data** available from external feeds to provide more **granularity**, considering **seasonal trends** in the price as it relates to **months in the year**. \n",
    "\n",
    "To price the contract, we will need **historical data** and an **estimate of the future gas price** at any date.\n",
    "\n",
    "---\n",
    "\n",
    "### About Commodity Storage Contracts\n",
    "\n",
    "Commodity storage contracts represent deals between **warehouse (storage) owners** and participants in the **supply chain** (refineries, transporters, distributors, etc.). \n",
    "\n",
    "The deal is typically an agreement to **store an agreed quantity** of any physical commodity (oil, natural gas, agriculture) in a warehouse for a specified amount of time.\n",
    "\n",
    "#### Key Terms of Such Contracts:\n",
    "- Periodic fees for storage\n",
    "- Limits on withdrawals/injections of a commodity\n",
    "- Injection date: when the commodity is purchased and stored\n",
    "- Withdrawal date: when the commodity is withdrawn from storage and sold\n",
    "\n",
    "A client could be anyone within the commodities supply chain:\n",
    "- **Producers**\n",
    "- **Refiners**\n",
    "- **Transporters**\n",
    "- **Distributors**\n",
    "- **Firms (e.g., commodity trading firms, hedge funds)**\n",
    "\n",
    "These clients aim to take advantage of **seasonal or intra-day price differentials** in physical commodities.\n",
    "\n",
    "📌 **Example**: A firm may choose to **buy natural gas in summer** and **sell it in winter**, using underground storage to hold the inventory and profit from the seasonal price differences.\n",
    "\n",
    "---\n",
    "\n",
    "## Your Task\n",
    "\n",
    "After asking around for the source of the existing data, you learn the current process is:\n",
    "- A **monthly snapshot** of prices from a market data provider\n",
    "- Represents the **market price of natural gas delivered at the end of each calendar month**\n",
    "- Data is available for roughly the **next 18 months**\n",
    "- Combined with historical prices in a **time series database**\n",
    "\n",
    "You gain access and **download the data in a CSV file**.\n",
    "\n",
    "### What You Need to Do:\n",
    "- Download the monthly natural gas price data\n",
    "- Each point corresponds to the purchase price at the end of a month, from **31st October 2020** to **30th September 2024**\n",
    "- **Analyze the data** to:\n",
    "  - Estimate the **purchase price of gas** at any **past** date\n",
    "  - **Extrapolate** it for **one year into the future**\n",
    "\n",
    "🧠 Your code should:\n",
    "- Take a **date as input**\n",
    "- Return a **price estimate**\n",
    "\n",
    "---\n",
    "\n",
    "### Additional Guidance\n",
    "\n",
    "Try to:\n",
    "- **Visualize the data** to find patterns\n",
    "- Consider factors causing price variation (e.g., **seasonal trends**)\n",
    "- Ignore market holidays, weekends, and bank holidays\n",
    "\n",
    "📌 **Note**: This role often requires knowledge of:\n",
    "- **Data analysis**\n",
    "- **Machine learning**"
   ]
  },
  {
   "cell_type": "markdown",
   "id": "7d33ac42",
   "metadata": {},
   "source": [
    "## ✅ Step 1: Load & Inspect the Data"
   ]
  },
  {
   "cell_type": "markdown",
   "id": "07ea77ed",
   "metadata": {},
   "source": [
    "#### 🔹1.1. Import the necessary libraries"
   ]
  },
  {
   "cell_type": "code",
   "execution_count": 3,
   "id": "6d0d78bf",
   "metadata": {},
   "outputs": [],
   "source": [
    "import pandas as pd\n",
    "import numpy as np\n",
    "import matplotlib.pyplot as plt\n",
    "import seaborn as sns"
   ]
  },
  {
   "cell_type": "markdown",
   "id": "d17d1813",
   "metadata": {},
   "source": [
    "#### 🔹1.2. Load the data"
   ]
  },
  {
   "cell_type": "code",
   "execution_count": 4,
   "id": "3d5a76ab",
   "metadata": {},
   "outputs": [
    {
     "data": {
      "text/html": [
       "<div>\n",
       "<style scoped>\n",
       "    .dataframe tbody tr th:only-of-type {\n",
       "        vertical-align: middle;\n",
       "    }\n",
       "\n",
       "    .dataframe tbody tr th {\n",
       "        vertical-align: top;\n",
       "    }\n",
       "\n",
       "    .dataframe thead th {\n",
       "        text-align: right;\n",
       "    }\n",
       "</style>\n",
       "<table border=\"1\" class=\"dataframe\">\n",
       "  <thead>\n",
       "    <tr style=\"text-align: right;\">\n",
       "      <th></th>\n",
       "      <th>Dates</th>\n",
       "      <th>Prices</th>\n",
       "    </tr>\n",
       "  </thead>\n",
       "  <tbody>\n",
       "    <tr>\n",
       "      <th>0</th>\n",
       "      <td>10/31/20</td>\n",
       "      <td>10.1</td>\n",
       "    </tr>\n",
       "    <tr>\n",
       "      <th>1</th>\n",
       "      <td>11/30/20</td>\n",
       "      <td>10.3</td>\n",
       "    </tr>\n",
       "    <tr>\n",
       "      <th>2</th>\n",
       "      <td>12/31/20</td>\n",
       "      <td>11.0</td>\n",
       "    </tr>\n",
       "    <tr>\n",
       "      <th>3</th>\n",
       "      <td>1/31/21</td>\n",
       "      <td>10.9</td>\n",
       "    </tr>\n",
       "    <tr>\n",
       "      <th>4</th>\n",
       "      <td>2/28/21</td>\n",
       "      <td>10.9</td>\n",
       "    </tr>\n",
       "  </tbody>\n",
       "</table>\n",
       "</div>"
      ],
      "text/plain": [
       "      Dates  Prices\n",
       "0  10/31/20    10.1\n",
       "1  11/30/20    10.3\n",
       "2  12/31/20    11.0\n",
       "3   1/31/21    10.9\n",
       "4   2/28/21    10.9"
      ]
     },
     "execution_count": 4,
     "metadata": {},
     "output_type": "execute_result"
    }
   ],
   "source": [
    "# Load the CSV file\n",
    "df = pd.read_csv(\"Nat_Gas.csv\")\n",
    "\n",
    "# Show the first few rows\n",
    "df.head()"
   ]
  },
  {
   "cell_type": "markdown",
   "id": "18b47484",
   "metadata": {},
   "source": [
    "#### 🔹1.3. Check data info and types"
   ]
  },
  {
   "cell_type": "code",
   "execution_count": 6,
   "id": "33c8c787",
   "metadata": {},
   "outputs": [
    {
     "name": "stdout",
     "output_type": "stream",
     "text": [
      "Shape: (48, 2)\n",
      "-------------\n",
      "Columns: Index(['Dates', 'Prices'], dtype='object')\n",
      "-------------\n",
      "<class 'pandas.core.frame.DataFrame'>\n",
      "RangeIndex: 48 entries, 0 to 47\n",
      "Data columns (total 2 columns):\n",
      " #   Column  Non-Null Count  Dtype  \n",
      "---  ------  --------------  -----  \n",
      " 0   Dates   48 non-null     object \n",
      " 1   Prices  48 non-null     float64\n",
      "dtypes: float64(1), object(1)\n",
      "memory usage: 896.0+ bytes\n",
      "None\n",
      "-------------\n",
      "Dates     0\n",
      "Prices    0\n",
      "dtype: int64\n"
     ]
    }
   ],
   "source": [
    "# Check the shape and column names\n",
    "print(\"Shape:\", df.shape)\n",
    "print('-------------')\n",
    "print(\"Columns:\", df.columns)\n",
    "print('-------------')\n",
    "# Check data types and missing values\n",
    "print(df.info())\n",
    "print('-------------')\n",
    "print(df.isnull().sum())\n"
   ]
  },
  {
   "cell_type": "markdown",
   "id": "3fceab16",
   "metadata": {},
   "source": [
    "#### 🔹1.4. Convert 'Date' column to datetime"
   ]
  },
  {
   "cell_type": "code",
   "execution_count": 8,
   "id": "8423fd20",
   "metadata": {},
   "outputs": [
    {
     "name": "stderr",
     "output_type": "stream",
     "text": [
      "C:\\Users\\Usuario\\AppData\\Local\\Temp\\ipykernel_6028\\2603064510.py:2: UserWarning: Could not infer format, so each element will be parsed individually, falling back to `dateutil`. To ensure parsing is consistent and as-expected, please specify a format.\n",
      "  df['Dates'] = pd.to_datetime(df['Dates'])\n"
     ]
    },
    {
     "data": {
      "text/html": [
       "<div>\n",
       "<style scoped>\n",
       "    .dataframe tbody tr th:only-of-type {\n",
       "        vertical-align: middle;\n",
       "    }\n",
       "\n",
       "    .dataframe tbody tr th {\n",
       "        vertical-align: top;\n",
       "    }\n",
       "\n",
       "    .dataframe thead th {\n",
       "        text-align: right;\n",
       "    }\n",
       "</style>\n",
       "<table border=\"1\" class=\"dataframe\">\n",
       "  <thead>\n",
       "    <tr style=\"text-align: right;\">\n",
       "      <th></th>\n",
       "      <th>Dates</th>\n",
       "      <th>Prices</th>\n",
       "    </tr>\n",
       "  </thead>\n",
       "  <tbody>\n",
       "    <tr>\n",
       "      <th>count</th>\n",
       "      <td>48</td>\n",
       "      <td>48.000000</td>\n",
       "    </tr>\n",
       "    <tr>\n",
       "      <th>mean</th>\n",
       "      <td>2022-10-15 08:00:00</td>\n",
       "      <td>11.207083</td>\n",
       "    </tr>\n",
       "    <tr>\n",
       "      <th>min</th>\n",
       "      <td>2020-10-31 00:00:00</td>\n",
       "      <td>9.840000</td>\n",
       "    </tr>\n",
       "    <tr>\n",
       "      <th>25%</th>\n",
       "      <td>2021-10-23 06:00:00</td>\n",
       "      <td>10.650000</td>\n",
       "    </tr>\n",
       "    <tr>\n",
       "      <th>50%</th>\n",
       "      <td>2022-10-15 12:00:00</td>\n",
       "      <td>11.300000</td>\n",
       "    </tr>\n",
       "    <tr>\n",
       "      <th>75%</th>\n",
       "      <td>2023-10-07 18:00:00</td>\n",
       "      <td>11.625000</td>\n",
       "    </tr>\n",
       "    <tr>\n",
       "      <th>max</th>\n",
       "      <td>2024-09-30 00:00:00</td>\n",
       "      <td>12.800000</td>\n",
       "    </tr>\n",
       "    <tr>\n",
       "      <th>std</th>\n",
       "      <td>NaN</td>\n",
       "      <td>0.757897</td>\n",
       "    </tr>\n",
       "  </tbody>\n",
       "</table>\n",
       "</div>"
      ],
      "text/plain": [
       "                     Dates     Prices\n",
       "count                   48  48.000000\n",
       "mean   2022-10-15 08:00:00  11.207083\n",
       "min    2020-10-31 00:00:00   9.840000\n",
       "25%    2021-10-23 06:00:00  10.650000\n",
       "50%    2022-10-15 12:00:00  11.300000\n",
       "75%    2023-10-07 18:00:00  11.625000\n",
       "max    2024-09-30 00:00:00  12.800000\n",
       "std                    NaN   0.757897"
      ]
     },
     "execution_count": 8,
     "metadata": {},
     "output_type": "execute_result"
    }
   ],
   "source": [
    "# Convert Date to datetime\n",
    "df['Dates'] = pd.to_datetime(df['Dates'])\n",
    "\n",
    "# Sort by date just in case\n",
    "df = df.sort_values('Dates').reset_index(drop=True)\n",
    "\n",
    "# Quick summary stats\n",
    "df.describe()\n"
   ]
  },
  {
   "cell_type": "code",
   "execution_count": null,
   "id": "577f1d48",
   "metadata": {},
   "outputs": [
    {
     "data": {
      "text/plain": [
       "Dates     datetime64[ns]\n",
       "Prices           float64\n",
       "dtype: object"
      ]
     },
     "execution_count": 9,
     "metadata": {},
     "output_type": "execute_result"
    }
   ],
   "source": [
    "# check data types again\n",
    "df.dtypes"
   ]
  }
 ],
 "metadata": {
  "kernelspec": {
   "display_name": "Python 3",
   "language": "python",
   "name": "python3"
  },
  "language_info": {
   "codemirror_mode": {
    "name": "ipython",
    "version": 3
   },
   "file_extension": ".py",
   "mimetype": "text/x-python",
   "name": "python",
   "nbconvert_exporter": "python",
   "pygments_lexer": "ipython3",
   "version": "3.10.9"
  }
 },
 "nbformat": 4,
 "nbformat_minor": 5
}
